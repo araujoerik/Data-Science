{
 "cells": [
  {
   "cell_type": "markdown",
   "id": "f9429f18",
   "metadata": {},
   "source": [
    "# Hello World\n",
    "\n",
    "Una de las formas típicas de comenzar con un lenguaje de programación es imprimir un mensaje simple. Puedes escribir cualquier mensaje, pero entre los programadores es tradicional comenzar con un \"Hola mundo\", así que intentémoslo. \n",
    "\n",
    "Imprimamos nuestro primer mensaje usando la función de impresión. La función de impresión imprime un mensaje en la pantalla."
   ]
  },
  {
   "cell_type": "code",
   "execution_count": 36,
   "id": "fb729f48",
   "metadata": {},
   "outputs": [
    {
     "name": "stdout",
     "output_type": "stream",
     "text": [
      "Hello World\n"
     ]
    }
   ],
   "source": [
    "print(\"Hello World\")"
   ]
  },
  {
   "cell_type": "markdown",
   "id": "f848b565",
   "metadata": {},
   "source": [
    "A diferencia de la mayoría de los editores de texto de Python, Jupyter Notebook nos permite imprimir el último objeto en la celda de código sin especificar la función de impresión."
   ]
  },
  {
   "cell_type": "code",
   "execution_count": 37,
   "id": "8cbf416d",
   "metadata": {},
   "outputs": [
    {
     "data": {
      "text/plain": [
       "'Hello World'"
      ]
     },
     "execution_count": 37,
     "metadata": {},
     "output_type": "execute_result"
    }
   ],
   "source": [
    "\"Hello World\""
   ]
  },
  {
   "cell_type": "markdown",
   "id": "851236a6",
   "metadata": {},
   "source": [
    "# Tipos de datos\n",
    "\n",
    "Para saber que tipo de dato es usamos la funcion type"
   ]
  },
  {
   "cell_type": "markdown",
   "id": "0afe3072",
   "metadata": {},
   "source": [
    "### Enteros y flotantes\n",
    "\n",
    "int: aquellos numeros que no contienen fracciones o decimales"
   ]
  },
  {
   "cell_type": "code",
   "execution_count": 38,
   "id": "9be7c4b7",
   "metadata": {},
   "outputs": [
    {
     "data": {
      "text/plain": [
       "int"
      ]
     },
     "execution_count": 38,
     "metadata": {},
     "output_type": "execute_result"
    }
   ],
   "source": [
    "type(1)"
   ]
  },
  {
   "cell_type": "markdown",
   "id": "ec72640a",
   "metadata": {},
   "source": [
    "float: numeros que contienen decimales\n"
   ]
  },
  {
   "cell_type": "code",
   "execution_count": 39,
   "id": "2e5ecc37",
   "metadata": {},
   "outputs": [
    {
     "data": {
      "text/plain": [
       "float"
      ]
     },
     "execution_count": 39,
     "metadata": {},
     "output_type": "execute_result"
    }
   ],
   "source": [
    "type(2.4578)"
   ]
  },
  {
   "cell_type": "markdown",
   "id": "8ebdb1a4",
   "metadata": {},
   "source": [
    "### Operadores matemáticos\n",
    "\n",
    "Al igual que en Excel, puede realizar operaciones matemáticas en Python. \n",
    "\n",
    "Los operadores más comunes usados en Python: \n",
    "\n",
    "* Suma: + \n",
    "* Resta: - \n",
    "* Multiplicación: * \n",
    "* División: / \n",
    "* Exponente: ** \n",
    "* Resto: % \n",
    "* División entera: //"
   ]
  },
  {
   "cell_type": "code",
   "execution_count": 40,
   "id": "82e3cf5b",
   "metadata": {},
   "outputs": [
    {
     "data": {
      "text/plain": [
       "3"
      ]
     },
     "execution_count": 40,
     "metadata": {},
     "output_type": "execute_result"
    }
   ],
   "source": [
    "1 + 2"
   ]
  },
  {
   "cell_type": "code",
   "execution_count": 41,
   "id": "be0e487e",
   "metadata": {},
   "outputs": [
    {
     "data": {
      "text/plain": [
       "9"
      ]
     },
     "execution_count": 41,
     "metadata": {},
     "output_type": "execute_result"
    }
   ],
   "source": [
    "3 ** 2"
   ]
  },
  {
   "cell_type": "markdown",
   "id": "6492510f",
   "metadata": {},
   "source": [
    "### Boolean\n",
    "\n",
    "Un boolean tiene dos valores True y False, sirve para confirmar sentencias condicionales"
   ]
  },
  {
   "cell_type": "code",
   "execution_count": 42,
   "id": "ab106c97",
   "metadata": {},
   "outputs": [
    {
     "data": {
      "text/plain": [
       "bool"
      ]
     },
     "execution_count": 42,
     "metadata": {},
     "output_type": "execute_result"
    }
   ],
   "source": [
    "type(True)"
   ]
  },
  {
   "cell_type": "code",
   "execution_count": 43,
   "id": "644aa6fc",
   "metadata": {},
   "outputs": [
    {
     "data": {
      "text/plain": [
       "bool"
      ]
     },
     "execution_count": 43,
     "metadata": {},
     "output_type": "execute_result"
    }
   ],
   "source": [
    "type(False)"
   ]
  },
  {
   "cell_type": "markdown",
   "id": "426fb536",
   "metadata": {},
   "source": [
    "## String\n",
    "\n",
    "Una cadena o string almacena varios caracteres que forman palabras, in Python se escriben dentro de comillas(pueden ser simples o dobles)."
   ]
  },
  {
   "cell_type": "code",
   "execution_count": 44,
   "id": "22e7c217",
   "metadata": {},
   "outputs": [
    {
     "data": {
      "text/plain": [
       "str"
      ]
     },
     "execution_count": 44,
     "metadata": {},
     "output_type": "execute_result"
    }
   ],
   "source": [
    "type(\"Hello World\")"
   ]
  },
  {
   "cell_type": "code",
   "execution_count": 45,
   "id": "faa7b822",
   "metadata": {},
   "outputs": [
    {
     "data": {
      "text/plain": [
       "str"
      ]
     },
     "execution_count": 45,
     "metadata": {},
     "output_type": "execute_result"
    }
   ],
   "source": [
    "type('Hello World')"
   ]
  },
  {
   "cell_type": "markdown",
   "id": "ca2b001c",
   "metadata": {},
   "source": [
    "### Métodos de cadena\n",
    "\n",
    "Podemos aplicar diferentes funciones a las cadenas como lo haríamos en Excel. Sin embargo, en Python usamos métodos. \n",
    "\n",
    "Un método es una función que \"pertenece a\" un objeto. Para llamar a un método usamos el \".\" después del objeto. Algunos métodos de cadena para cambiar el caso del texto."
   ]
  },
  {
   "cell_type": "code",
   "execution_count": 46,
   "id": "56589429",
   "metadata": {},
   "outputs": [
    {
     "name": "stdout",
     "output_type": "stream",
     "text": [
      "HELLO WORLD\n",
      "hello world\n",
      "Hello World\n",
      "3\n",
      "hellu wurld\n"
     ]
    }
   ],
   "source": [
    "# Formato de texto\n",
    "print(\"Hello World\".upper())\n",
    "print(\"Hello World\".lower())\n",
    "print(\"hello world\".title())\n",
    "\n",
    "# Contando letras\n",
    "print(\"hello world\".count('l'))\n",
    "# Remplazando letras en la cadena\n",
    "print(\"hello world\".replace('o', 'u'))"
   ]
  },
  {
   "cell_type": "markdown",
   "id": "2b8db468",
   "metadata": {},
   "source": [
    "# Variables\n",
    "\n",
    "Las variables nos ayudan a almacenar valores de datos. En Python, a menudo trabajamos con datos, por lo que las variables son útiles para administrar estos datos correctamente. \n",
    "\n",
    "Una variable contiene un valor, que es la información asociada con una variable. Para asignar un valor a una variable, usamos el =."
   ]
  },
  {
   "cell_type": "code",
   "execution_count": 47,
   "id": "9be06833",
   "metadata": {},
   "outputs": [],
   "source": [
    "#Creacion de una variable\n",
    "mensaje = \"Estoy aprendiendo Python\""
   ]
  },
  {
   "cell_type": "markdown",
   "id": "b9e1657f",
   "metadata": {},
   "source": [
    "Ahora para imprimir el texto ya no tenemos que escribirlo basta con llamar el nombre de nuestra variable."
   ]
  },
  {
   "cell_type": "code",
   "execution_count": 48,
   "id": "bbb482f7",
   "metadata": {},
   "outputs": [
    {
     "data": {
      "text/plain": [
       "'Estoy aprendiendo Python'"
      ]
     },
     "execution_count": 48,
     "metadata": {},
     "output_type": "execute_result"
    }
   ],
   "source": [
    "mensaje"
   ]
  },
  {
   "cell_type": "markdown",
   "id": "e97b4eef",
   "metadata": {},
   "source": [
    "Podemos crear tantas variables como queramos. Solo nos aseguramos de asignar nombres diferentes a las nuevas variables."
   ]
  },
  {
   "cell_type": "code",
   "execution_count": 49,
   "id": "8dacf305",
   "metadata": {},
   "outputs": [],
   "source": [
    "mensaje2 = \"y es divertido\""
   ]
  },
  {
   "cell_type": "markdown",
   "id": "f3a7f765",
   "metadata": {},
   "source": [
    "### Concatenacion de cadenas\n",
    "\n",
    "Podemos unir dos cadenas con el método concatenar usando el operador \"+\"\n"
   ]
  },
  {
   "cell_type": "code",
   "execution_count": 54,
   "id": "7c731f62",
   "metadata": {},
   "outputs": [
    {
     "data": {
      "text/plain": [
       "'Estoy aprendiendo Python y es divertido'"
      ]
     },
     "execution_count": 54,
     "metadata": {},
     "output_type": "execute_result"
    }
   ],
   "source": [
    "mensaje + mensaje2"
   ]
  },
  {
   "cell_type": "markdown",
   "id": "8eb115fe",
   "metadata": {},
   "source": [
    "# Lista\n",
    "\n",
    "En Python, las listas se utilizan para almacenar varios elementos en una sola variable. Las listas son contenedores ordenados y mutables. En Python, llamamos 'mutable' a los objetos que pueden cambiar sus valores. Es decir, los elementos dentro de una lista pueden cambiar su valor.\n",
    "\n",
    "Para crear una lista, tenemos que introducir los elementos entre corchetes ([]), separados por comas."
   ]
  },
  {
   "cell_type": "code",
   "execution_count": 57,
   "id": "fdb28595",
   "metadata": {},
   "outputs": [],
   "source": [
    "paises = ['United States', 'India', 'China', 'Brazil']"
   ]
  },
  {
   "cell_type": "markdown",
   "id": "b0810a87",
   "metadata": {},
   "source": [
    "Ten en cuenta que las listas pueden tener elementos de diferentes tipos y elementos duplicados"
   ]
  },
  {
   "cell_type": "markdown",
   "id": "02678ddd",
   "metadata": {},
   "source": [
    "## Indexación\n",
    "\n",
    "Al indexar podemos obtener un elemento o elemento de la lista por su posición. Cada elemento de una lista tiene un índice (posición en la lista). Python usa indexación basada en cero. Es decir, el primer elemento (\"United States\") tiene un índice 0, el segundo (\"India\") tiene un índice 1 y así sucesivamente.\n",
    "\n",
    "Para acceder a un elemento por su índice necesitamos usar corchetes []."
   ]
  },
  {
   "cell_type": "code",
   "execution_count": 58,
   "id": "67524661",
   "metadata": {},
   "outputs": [
    {
     "name": "stdout",
     "output_type": "stream",
     "text": [
      "United States\n",
      "India\n",
      "China\n",
      "Brazil\n"
     ]
    }
   ],
   "source": [
    "print(paises[0])\n",
    "print(paises[1])\n",
    "print(paises[2])\n",
    "print(paises[3])"
   ]
  },
  {
   "cell_type": "markdown",
   "id": "b3d9ff39",
   "metadata": {},
   "source": [
    "También hay un índice negativo que nos ayuda a obtener elementos que comienzan en la última posición de la lista, por lo que en lugar de usar índices desde 0 y superiores, usamos índices desde -1 y inferiores."
   ]
  },
  {
   "cell_type": "code",
   "execution_count": 59,
   "id": "7cc6f151",
   "metadata": {},
   "outputs": [
    {
     "data": {
      "text/plain": [
       "'Brazil'"
      ]
     },
     "execution_count": 59,
     "metadata": {},
     "output_type": "execute_result"
    }
   ],
   "source": [
    "paises[-1]"
   ]
  },
  {
   "cell_type": "markdown",
   "id": "545d32e0",
   "metadata": {},
   "source": [
    "## Rebanar o slicing\n",
    "\n",
    "Slice significa acceder a partes de una lista. Un segmento es un subconjunto de elementos de lista. La notación de corte toma la forma de:\n",
    "\n",
    "nombre_lista[inicio:fin]\n",
    "\n",
    "Donde \"inicio\" representa el índice del primer elemento y \"fin\" representa el elemento en el que detenerse (sin incluirlo en el segmento)."
   ]
  },
  {
   "cell_type": "code",
   "execution_count": 61,
   "id": "6b006407",
   "metadata": {},
   "outputs": [
    {
     "name": "stdout",
     "output_type": "stream",
     "text": [
      "['United States', 'India', 'China']\n",
      "['India', 'China', 'Brazil']\n",
      "['United States', 'India']\n",
      "['Brazil', 'China', 'India', 'United States']\n"
     ]
    }
   ],
   "source": [
    "print(paises[0:3])\n",
    "print(paises[1:])\n",
    "print(paises[:2])\n",
    "print(paises[::-1])"
   ]
  },
  {
   "cell_type": "markdown",
   "id": "4a3d75ea",
   "metadata": {},
   "source": [
    "## Listar operaciones y métodos\n",
    "\n",
    "Hay muchas cosas que puedes hacer con las listas. Puede agregar nuevos elementos, eliminar cualquier elemento, actualizar valores, etc"
   ]
  },
  {
   "cell_type": "code",
   "execution_count": 62,
   "id": "0d58018e",
   "metadata": {},
   "outputs": [
    {
     "data": {
      "text/plain": [
       "['United States', 'India', 'China', 'Brazil', 'Canada']"
      ]
     },
     "execution_count": 62,
     "metadata": {},
     "output_type": "execute_result"
    }
   ],
   "source": [
    "#append: Agrega un elemento al final de la lista\n",
    "paises = ['United States', 'India', 'China', 'Brazil']\n",
    "paises.append('Canada')\n",
    "paises"
   ]
  },
  {
   "cell_type": "code",
   "execution_count": 63,
   "id": "ef751249",
   "metadata": {},
   "outputs": [
    {
     "data": {
      "text/plain": [
       "['Canada', 'United States', 'India', 'China', 'Brazil']"
      ]
     },
     "execution_count": 63,
     "metadata": {},
     "output_type": "execute_result"
    }
   ],
   "source": [
    "#insert: Agrega un nuevo elemento a la lista en un indice especifico\n",
    "paises = ['United States', 'India', 'China', 'Brazil']\n",
    "paises.insert(0, 'Canada')\n",
    "paises"
   ]
  },
  {
   "cell_type": "code",
   "execution_count": 64,
   "id": "f0af5628",
   "metadata": {},
   "outputs": [
    {
     "data": {
      "text/plain": [
       "['Canada',\n",
       " 'United States',\n",
       " 'India',\n",
       " 'China',\n",
       " 'Brazil',\n",
       " 'UK',\n",
       " 'Germany',\n",
       " 'Austria']"
      ]
     },
     "execution_count": 64,
     "metadata": {},
     "output_type": "execute_result"
    }
   ],
   "source": [
    "#Uniendo listas con el operador +\n",
    "paises2 = ['UK', 'Germany', 'Austria']\n",
    "paises + paises2"
   ]
  },
  {
   "cell_type": "markdown",
   "id": "6f9e478f",
   "metadata": {},
   "source": [
    "Podemos poner la lista de países y países2 dentro de otra lista, que se llame nuevaLista."
   ]
  },
  {
   "cell_type": "code",
   "execution_count": 66,
   "id": "f1054a68",
   "metadata": {},
   "outputs": [
    {
     "data": {
      "text/plain": [
       "[['Canada', 'United States', 'India', 'China', 'Brazil'],\n",
       " ['UK', 'Germany', 'Austria']]"
      ]
     },
     "execution_count": 66,
     "metadata": {},
     "output_type": "execute_result"
    }
   ],
   "source": [
    "nuevaLista = [paises, paises2]\n",
    "nuevaLista"
   ]
  },
  {
   "cell_type": "markdown",
   "id": "12426568",
   "metadata": {},
   "source": [
    "## Quitar un elemento \n",
    "\n",
    "Existen diferentes métodos que nos ayudan a eliminar un elemento de una lista."
   ]
  },
  {
   "cell_type": "code",
   "execution_count": 67,
   "id": "4502b5f6",
   "metadata": {},
   "outputs": [
    {
     "name": "stdout",
     "output_type": "stream",
     "text": [
      "['United States', 'India', 'China', 'Brazil']\n",
      "['India', 'China', 'Brazil']\n",
      "['China', 'Brazil']\n",
      "['Brazil']\n"
     ]
    }
   ],
   "source": [
    "countries = ['United States', 'India','China', 'Brazil']\n",
    "print(countries)\n",
    "\n",
    "# .remove() Remueve el elemento seleccionado de la lista\n",
    "countries.remove('United States')\n",
    "print(countries)\n",
    "# .pop() Elimina un elemento en un índice específico y luego lo devuelve.\n",
    "countries.pop(0)\n",
    "print(countries)\n",
    "# del: Elimina un elemento en un índice específico\n",
    "del countries[0]\n",
    "print(countries)"
   ]
  },
  {
   "cell_type": "markdown",
   "id": "e66787e9",
   "metadata": {},
   "source": [
    "## Ordenar una lista\n",
    "\n",
    "Podemos ordenar fácilmente una lista usando el método .sort()."
   ]
  },
  {
   "cell_type": "code",
   "execution_count": 68,
   "id": "528d9df4",
   "metadata": {},
   "outputs": [
    {
     "data": {
      "text/plain": [
       "[1, 2, 3, 4, 7, 10]"
      ]
     },
     "execution_count": 68,
     "metadata": {},
     "output_type": "execute_result"
    }
   ],
   "source": [
    "numeros = [4, 3, 10, 7, 1, 2]\n",
    "numeros.sort()\n",
    "numeros"
   ]
  },
  {
   "cell_type": "markdown",
   "id": "007ca0e6",
   "metadata": {},
   "source": [
    "Podemos agregar el argumento inverso al método .sort() para controlar el orden. Si queremos que sea descendiente establecemos reverse=True\n"
   ]
  },
  {
   "cell_type": "code",
   "execution_count": 69,
   "id": "d5d84e80",
   "metadata": {},
   "outputs": [
    {
     "data": {
      "text/plain": [
       "[10, 7, 4, 3, 2, 1]"
      ]
     },
     "execution_count": 69,
     "metadata": {},
     "output_type": "execute_result"
    }
   ],
   "source": [
    "numeros = [4, 3, 10, 7, 1, 2]\n",
    "numeros.sort(reverse = True)\n",
    "numeros"
   ]
  },
  {
   "cell_type": "markdown",
   "id": "3123e990",
   "metadata": {},
   "source": [
    "## Actualizar valor en una lista \n",
    "\n",
    "Para actualizar un valor en una lista, usamos la indexación para ubicar el elemento que queremos actualizar y luego establecerlo en un nuevo valor usando el signo =."
   ]
  },
  {
   "cell_type": "code",
   "execution_count": 70,
   "id": "9ad52fde",
   "metadata": {},
   "outputs": [
    {
     "data": {
      "text/plain": [
       "[1000, 7, 4, 3, 2, 1]"
      ]
     },
     "execution_count": 70,
     "metadata": {},
     "output_type": "execute_result"
    }
   ],
   "source": [
    "numeros[0] = 1000\n",
    "numeros"
   ]
  },
  {
   "cell_type": "markdown",
   "id": "cfd55cc7",
   "metadata": {},
   "source": [
    "# Diccionario\n",
    "\n",
    "En Python, los diccionarios nos ayudan a almacenar datos en pares clave:valor (un par se llama elemento). Al igual que las listas, los diccionarios son mutables, pero a diferencia de las listas, se accede a los diccionarios a través de claves y no se permiten claves duplicadas."
   ]
  },
  {
   "cell_type": "code",
   "execution_count": 71,
   "id": "b8d2162a",
   "metadata": {},
   "outputs": [],
   "source": [
    "misDatos = {'name' : 'Erik', 'age' : 28}"
   ]
  },
  {
   "cell_type": "code",
   "execution_count": 72,
   "id": "acaf0c37",
   "metadata": {},
   "outputs": [
    {
     "data": {
      "text/plain": [
       "'Erik'"
      ]
     },
     "execution_count": 72,
     "metadata": {},
     "output_type": "execute_result"
    }
   ],
   "source": [
    "misDatos['name']"
   ]
  },
  {
   "cell_type": "code",
   "execution_count": 73,
   "id": "e22c3ab8",
   "metadata": {},
   "outputs": [
    {
     "data": {
      "text/plain": [
       "28"
      ]
     },
     "execution_count": 73,
     "metadata": {},
     "output_type": "execute_result"
    }
   ],
   "source": [
    "misDatos['age']"
   ]
  },
  {
   "cell_type": "code",
   "execution_count": 75,
   "id": "a2a418b6",
   "metadata": {},
   "outputs": [
    {
     "data": {
      "text/plain": [
       "dict_keys(['name', 'age'])"
      ]
     },
     "execution_count": 75,
     "metadata": {},
     "output_type": "execute_result"
    }
   ],
   "source": [
    "misDatos.keys()"
   ]
  },
  {
   "cell_type": "code",
   "execution_count": 76,
   "id": "682cb0ef",
   "metadata": {},
   "outputs": [
    {
     "data": {
      "text/plain": [
       "dict_values(['Erik', 28])"
      ]
     },
     "execution_count": 76,
     "metadata": {},
     "output_type": "execute_result"
    }
   ],
   "source": [
    "misDatos.values()"
   ]
  },
  {
   "cell_type": "code",
   "execution_count": 77,
   "id": "0721a3f5",
   "metadata": {},
   "outputs": [
    {
     "data": {
      "text/plain": [
       "dict_items([('name', 'Erik'), ('age', 28)])"
      ]
     },
     "execution_count": 77,
     "metadata": {},
     "output_type": "execute_result"
    }
   ],
   "source": [
    "misDatos.items()"
   ]
  },
  {
   "cell_type": "markdown",
   "id": "ac26b138",
   "metadata": {},
   "source": [
    "## Agregar/actualizar elementos \n",
    "\n",
    "Similar a las listas, podemos agregar y actualizar valores en un diccionario."
   ]
  },
  {
   "cell_type": "code",
   "execution_count": 78,
   "id": "c7baca5c",
   "metadata": {},
   "outputs": [],
   "source": [
    "misDatos['height'] = 1.72"
   ]
  },
  {
   "cell_type": "code",
   "execution_count": 80,
   "id": "7c167855",
   "metadata": {},
   "outputs": [
    {
     "data": {
      "text/plain": [
       "{'name': 'Erik', 'age': 28, 'height': 1.72}"
      ]
     },
     "execution_count": 80,
     "metadata": {},
     "output_type": "execute_result"
    }
   ],
   "source": [
    "misDatos"
   ]
  },
  {
   "cell_type": "code",
   "execution_count": 83,
   "id": "e41fa6d3",
   "metadata": {},
   "outputs": [],
   "source": [
    "misDatos.update({'height':1.8,'languages':['English', 'Spanish']})"
   ]
  },
  {
   "cell_type": "code",
   "execution_count": 84,
   "id": "d051daf6",
   "metadata": {},
   "outputs": [
    {
     "data": {
      "text/plain": [
       "{'name': 'Erik', 'age': 28, 'height': 1.8, 'languages': ['English', 'Spanish']}"
      ]
     },
     "execution_count": 84,
     "metadata": {},
     "output_type": "execute_result"
    }
   ],
   "source": [
    "misDatos"
   ]
  },
  {
   "cell_type": "markdown",
   "id": "2c9cc8c5",
   "metadata": {},
   "source": [
    "# Declaración if \n",
    "\n",
    "La declaración if es una de las declaraciones más comunes utilizadas en Python. Es una declaración condicional que se usa para decidir si se ejecutará una declaración (o un bloque de declaraciones)."
   ]
  },
  {
   "cell_type": "code",
   "execution_count": 85,
   "id": "2851ce04",
   "metadata": {},
   "outputs": [
    {
     "name": "stdout",
     "output_type": "stream",
     "text": [
      "Eres un adulto!\n"
     ]
    }
   ],
   "source": [
    "age = 18\n",
    "\n",
    "if age >= 18:\n",
    "    print(\"Eres un adulto!\")\n",
    "elif age >= 13:\n",
    "    print(\"Eres un joven!\")\n",
    "else:\n",
    "    print(\"Eres un niño\")"
   ]
  },
  {
   "cell_type": "markdown",
   "id": "929a72ae",
   "metadata": {},
   "source": [
    "Podemos usar la declaración if con la palabra clave 'in' para verificar si un elemento está en una lista."
   ]
  },
  {
   "cell_type": "code",
   "execution_count": 86,
   "id": "8b4e95d0",
   "metadata": {},
   "outputs": [
    {
     "name": "stdout",
     "output_type": "stream",
     "text": [
      "El pais esta en la lista\n"
     ]
    }
   ],
   "source": [
    "paises = ['United States', 'India', 'China', 'Brazil']\n",
    "if 'China' in paises:\n",
    "    print(\"El pais esta en la lista\")\n",
    "else:\n",
    "    (\"El pais no se encuentra en la lista\")"
   ]
  },
  {
   "cell_type": "markdown",
   "id": "6eb4f7c1",
   "metadata": {},
   "source": [
    "### Operadores\n",
    "\n",
    "Operadores de comparación\n",
    "* Igual a: == \n",
    "* Diferente: != \n",
    "* Mayor que: > \n",
    "* Menor que: < \n",
    "* Mayor o igual que: >= \n",
    "* Menor o igual que: <= \n",
    "\n",
    "Operadores booleanos\n",
    "* and: y \n",
    "* or: o \n",
    "* not: no"
   ]
  },
  {
   "cell_type": "markdown",
   "id": "e9622671",
   "metadata": {},
   "source": [
    "# Bucle for \n",
    "\n",
    "El bucle for es un bucle de uso frecuente en Python. Nos permite recorrer un objeto iterable (por ejemplo, una lista, diccionarios) y realizar la misma acción en cada elemento."
   ]
  },
  {
   "cell_type": "code",
   "execution_count": 88,
   "id": "38946158",
   "metadata": {},
   "outputs": [
    {
     "name": "stdout",
     "output_type": "stream",
     "text": [
      "United States\n",
      "India\n",
      "China\n",
      "Brazil\n"
     ]
    }
   ],
   "source": [
    "for pais in paises:\n",
    "    print(pais)"
   ]
  },
  {
   "cell_type": "code",
   "execution_count": 89,
   "id": "49894f3c",
   "metadata": {},
   "outputs": [
    {
     "name": "stdout",
     "output_type": "stream",
     "text": [
      "United States\n"
     ]
    }
   ],
   "source": [
    "for pais in paises:\n",
    "    if pais == \"United States\":\n",
    "        print(pais)"
   ]
  },
  {
   "cell_type": "markdown",
   "id": "45380a75",
   "metadata": {},
   "source": [
    "### Enumerar en un bucle for \n",
    "\n",
    "A veces necesitamos enumerar elementos en un bucle. Podemos hacer esto con el bucle for."
   ]
  },
  {
   "cell_type": "code",
   "execution_count": 90,
   "id": "0f8ac4d5",
   "metadata": {},
   "outputs": [
    {
     "name": "stdout",
     "output_type": "stream",
     "text": [
      "0\n",
      "United States\n",
      "1\n",
      "India\n",
      "2\n",
      "China\n",
      "3\n",
      "Brazil\n"
     ]
    }
   ],
   "source": [
    "for i, pais in enumerate(paises):\n",
    "    print(i)\n",
    "    print(pais)"
   ]
  },
  {
   "cell_type": "markdown",
   "id": "4c2789cc",
   "metadata": {},
   "source": [
    "### Bucle a través de los elementos del diccionario \n",
    "\n",
    "Podemos obtener la clave y el elemento por separado mientras recorremos un diccionario. Solo necesitamos usar el método .items()."
   ]
  },
  {
   "cell_type": "code",
   "execution_count": 92,
   "id": "7ffea0f1",
   "metadata": {},
   "outputs": [
    {
     "name": "stdout",
     "output_type": "stream",
     "text": [
      "name\n",
      "Erik\n",
      "age\n",
      "28\n",
      "height\n",
      "1.8\n",
      "languages\n",
      "['English', 'Spanish']\n"
     ]
    }
   ],
   "source": [
    "for llave, valor in misDatos.items():\n",
    "    print(llave)\n",
    "    print(valor)"
   ]
  },
  {
   "cell_type": "markdown",
   "id": "1d932b6e",
   "metadata": {},
   "source": [
    "# Funciones\n",
    "\n",
    "#### Funciones integradas\n",
    "\n",
    "Python tiene muchas funciones integradas que pueden ayudarnos a realizar una tarea específica. \n",
    "Los más comunes de ellos son:\n",
    "\n",
    "* range() \n",
    "* len() \n",
    "* max() \n",
    "* min() \n",
    "* round() \n",
    "* type()"
   ]
  },
  {
   "cell_type": "markdown",
   "id": "0b2a0034",
   "metadata": {},
   "source": [
    "## Cómo crear una función \n",
    "\n",
    "También podemos crear nuestras propias funciones. Vamos a crear una función que sume dos valores a y b"
   ]
  },
  {
   "cell_type": "code",
   "execution_count": 94,
   "id": "dda5af37",
   "metadata": {},
   "outputs": [],
   "source": [
    "def suma(a, b):\n",
    "    x = a + b\n",
    "    return x"
   ]
  },
  {
   "cell_type": "code",
   "execution_count": 95,
   "id": "cd3c25fd",
   "metadata": {},
   "outputs": [
    {
     "data": {
      "text/plain": [
       "5"
      ]
     },
     "execution_count": 95,
     "metadata": {},
     "output_type": "execute_result"
    }
   ],
   "source": [
    "suma(2, 3)"
   ]
  },
  {
   "cell_type": "markdown",
   "id": "76654bec",
   "metadata": {},
   "source": [
    "# Módulos\n",
    "\n",
    "Un módulo es un archivo que consta de código Python. Un módulo puede contener funciones, clases, variables y también código ejecutable. Podemos obtener acceso a un módulo de Python con la instrucción \"import\""
   ]
  },
  {
   "cell_type": "markdown",
   "id": "b6d2993d",
   "metadata": {},
   "source": [
    "## Módulo OS \n",
    "\n",
    "El módulo OS viene con Python. Proporciona funciones para interactuar con el sistema operativo."
   ]
  },
  {
   "cell_type": "code",
   "execution_count": 96,
   "id": "e5042fde",
   "metadata": {},
   "outputs": [],
   "source": [
    "import os"
   ]
  },
  {
   "cell_type": "code",
   "execution_count": 97,
   "id": "51adb107",
   "metadata": {},
   "outputs": [
    {
     "data": {
      "text/plain": [
       "'C:\\\\Users\\\\arauj\\\\Documents\\\\Workspaces\\\\Data Science'"
      ]
     },
     "execution_count": 97,
     "metadata": {},
     "output_type": "execute_result"
    }
   ],
   "source": [
    "os.getcwd()"
   ]
  },
  {
   "cell_type": "code",
   "execution_count": 98,
   "id": "39c416ea",
   "metadata": {},
   "outputs": [
    {
     "data": {
      "text/plain": [
       "['.ipynb_checkpoints', 'Guia Data Science.ipynb']"
      ]
     },
     "execution_count": 98,
     "metadata": {},
     "output_type": "execute_result"
    }
   ],
   "source": [
    "os.listdir()"
   ]
  },
  {
   "cell_type": "code",
   "execution_count": 99,
   "id": "886332e5",
   "metadata": {},
   "outputs": [],
   "source": [
    "os.makedirs('New Folder')"
   ]
  },
  {
   "cell_type": "code",
   "execution_count": 100,
   "id": "1ae6c572",
   "metadata": {},
   "outputs": [
    {
     "data": {
      "text/plain": [
       "['.ipynb_checkpoints', 'Guia Data Science.ipynb', 'New Folder']"
      ]
     },
     "execution_count": 100,
     "metadata": {},
     "output_type": "execute_result"
    }
   ],
   "source": [
    "os.listdir()"
   ]
  }
 ],
 "metadata": {
  "kernelspec": {
   "display_name": "Python 3.9.12 ('base')",
   "language": "python",
   "name": "python3"
  },
  "language_info": {
   "codemirror_mode": {
    "name": "ipython",
    "version": 3
   },
   "file_extension": ".py",
   "mimetype": "text/x-python",
   "name": "python",
   "nbconvert_exporter": "python",
   "pygments_lexer": "ipython3",
   "version": "3.9.12"
  },
  "vscode": {
   "interpreter": {
    "hash": "9dbc3a3b722c568a434841db69d5d33ff3d98f1d4303db58fc718049bc5d6dd0"
   }
  }
 },
 "nbformat": 4,
 "nbformat_minor": 5
}
