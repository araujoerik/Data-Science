{
 "cells": [
  {
   "cell_type": "markdown",
   "id": "651d04a3-3290-44a8-9b1c-1e9cc1ff2f20",
   "metadata": {},
   "source": [
    "# Listas en Python"
   ]
  },
  {
   "cell_type": "code",
   "execution_count": 34,
   "id": "c2629455-7473-43e9-87ae-39742a678c92",
   "metadata": {},
   "outputs": [],
   "source": [
    "# Crear una lista con diferentes tipos de datos\n",
    "\n",
    "# structure : | Nombre (string) | millonesUsuarios (int) | perteneceFck (bool)"
   ]
  },
  {
   "cell_type": "code",
   "execution_count": 35,
   "id": "25f05c32-2e57-47c0-b5e2-645aa6b83080",
   "metadata": {},
   "outputs": [],
   "source": [
    "ejemplo = ['nombre', 1548, True]"
   ]
  },
  {
   "cell_type": "code",
   "execution_count": 36,
   "id": "bbb67478-ad9e-43bf-8516-b740b60e5c0e",
   "metadata": {},
   "outputs": [
    {
     "data": {
      "text/plain": [
       "['nombre', 1548, True]"
      ]
     },
     "execution_count": 36,
     "metadata": {},
     "output_type": "execute_result"
    }
   ],
   "source": [
    "ejemplo"
   ]
  },
  {
   "cell_type": "code",
   "execution_count": 37,
   "id": "0dfcb708-ac38-4fa7-b3a2-f3ca0bfe3692",
   "metadata": {},
   "outputs": [],
   "source": [
    "# Datos RRSS \n",
    "fbk = ['Facebook', 2449, True]\n",
    "twt = ['Twitter', 339, False]\n",
    "ig = ['Instagram', 1000, True]\n",
    "yt = ['YouTube', 2000, False]\n",
    "lkn = ['LinkedIn', 663, False]\n",
    "wsp = ['WhatsApp', 16500, True]"
   ]
  },
  {
   "cell_type": "code",
   "execution_count": 38,
   "id": "c8971c69",
   "metadata": {},
   "outputs": [],
   "source": [
    "# Seleccionar elementos de las listas\n"
   ]
  },
  {
   "cell_type": "code",
   "execution_count": 39,
   "id": "43aa27ab",
   "metadata": {},
   "outputs": [],
   "source": [
    "# Nombres de redes sociales\n",
    "\n",
    "nombresRRSS = ['Facebook', 'Twitter', 'Instagram', 'YouTube', 'LinkedIn', 'WhatsApp']"
   ]
  },
  {
   "cell_type": "code",
   "execution_count": 40,
   "id": "62749eac",
   "metadata": {},
   "outputs": [
    {
     "data": {
      "text/plain": [
       "'Facebook'"
      ]
     },
     "execution_count": 40,
     "metadata": {},
     "output_type": "execute_result"
    }
   ],
   "source": [
    "nombresRRSS[0]"
   ]
  },
  {
   "cell_type": "code",
   "execution_count": 41,
   "id": "c1b1892f",
   "metadata": {},
   "outputs": [
    {
     "data": {
      "text/plain": [
       "[['Twitter', 'YouTube']]"
      ]
     },
     "execution_count": 41,
     "metadata": {},
     "output_type": "execute_result"
    }
   ],
   "source": [
    "# Seleccion de 2 elementos\n",
    "\n",
    "[[nombresRRSS[1], nombresRRSS[3]]]"
   ]
  },
  {
   "cell_type": "code",
   "execution_count": 42,
   "id": "a00ebcd0",
   "metadata": {},
   "outputs": [
    {
     "data": {
      "text/plain": [
       "['Instagram', 'YouTube', 'LinkedIn']"
      ]
     },
     "execution_count": 42,
     "metadata": {},
     "output_type": "execute_result"
    }
   ],
   "source": [
    "# Seleccion de ':' para seleccionar de 'x' indice a un 'y' indice\n",
    "\n",
    "nombresRRSS[2:5]"
   ]
  },
  {
   "cell_type": "code",
   "execution_count": 43,
   "id": "04273a5c",
   "metadata": {},
   "outputs": [
    {
     "data": {
      "text/plain": [
       "['WhatsApp', 'LinkedIn', 'YouTube', 'Instagram', 'Twitter', 'Facebook']"
      ]
     },
     "execution_count": 43,
     "metadata": {},
     "output_type": "execute_result"
    }
   ],
   "source": [
    "# Seleccion inversa\n",
    "\n",
    "nombresRRSS[::-1]\n"
   ]
  },
  {
   "cell_type": "markdown",
   "id": "475a9e70",
   "metadata": {},
   "source": [
    "#### Agregando elementos a las listas"
   ]
  },
  {
   "cell_type": "code",
   "execution_count": 44,
   "id": "46062130",
   "metadata": {},
   "outputs": [
    {
     "data": {
      "text/plain": [
       "['Facebook', 2449, True]"
      ]
     },
     "execution_count": 44,
     "metadata": {},
     "output_type": "execute_result"
    }
   ],
   "source": [
    "fbk"
   ]
  },
  {
   "cell_type": "code",
   "execution_count": 45,
   "id": "d5a449ac",
   "metadata": {},
   "outputs": [],
   "source": [
    "fbk.append(2006)"
   ]
  },
  {
   "cell_type": "code",
   "execution_count": 46,
   "id": "7f13bcdd",
   "metadata": {},
   "outputs": [
    {
     "data": {
      "text/plain": [
       "['Facebook', 2449, True, 2006]"
      ]
     },
     "execution_count": 46,
     "metadata": {},
     "output_type": "execute_result"
    }
   ],
   "source": [
    "fbk"
   ]
  },
  {
   "cell_type": "code",
   "execution_count": 47,
   "id": "e02f264a",
   "metadata": {},
   "outputs": [],
   "source": [
    "twt.append(2006)\n",
    "ig.append(2010)\n",
    "yt.append(2005)\n",
    "lkn.append(2003)\n",
    "wsp.append(2009)"
   ]
  },
  {
   "cell_type": "markdown",
   "id": "026239bb",
   "metadata": {},
   "source": [
    "#### Eliminar elementos de las listas"
   ]
  },
  {
   "cell_type": "code",
   "execution_count": 48,
   "id": "3c2fe762",
   "metadata": {},
   "outputs": [],
   "source": [
    "fbk.append('error')"
   ]
  },
  {
   "cell_type": "code",
   "execution_count": 49,
   "id": "a582afc0",
   "metadata": {},
   "outputs": [
    {
     "data": {
      "text/plain": [
       "['Facebook', 2449, True, 2006, 'error']"
      ]
     },
     "execution_count": 49,
     "metadata": {},
     "output_type": "execute_result"
    }
   ],
   "source": [
    "fbk"
   ]
  },
  {
   "cell_type": "code",
   "execution_count": 50,
   "id": "94a3ae33",
   "metadata": {},
   "outputs": [],
   "source": [
    "fbk.remove('error')"
   ]
  },
  {
   "cell_type": "code",
   "execution_count": 51,
   "id": "9fb30bdf",
   "metadata": {},
   "outputs": [
    {
     "data": {
      "text/plain": [
       "['Facebook', 2449, True, 2006]"
      ]
     },
     "execution_count": 51,
     "metadata": {},
     "output_type": "execute_result"
    }
   ],
   "source": [
    "fbk"
   ]
  },
  {
   "cell_type": "markdown",
   "id": "f40f0a82",
   "metadata": {},
   "source": [
    "### Creando un DataFrame desde una lista"
   ]
  },
  {
   "cell_type": "code",
   "execution_count": 52,
   "id": "f38375dd",
   "metadata": {},
   "outputs": [],
   "source": [
    "# Creacion del DataFrame\n",
    "\n",
    "listaRS = [fbk, twt, ig, yt, lkn, wsp]"
   ]
  },
  {
   "cell_type": "code",
   "execution_count": 53,
   "id": "ec2895da",
   "metadata": {},
   "outputs": [
    {
     "data": {
      "text/plain": [
       "[['Facebook', 2449, True, 2006],\n",
       " ['Twitter', 339, False, 2006],\n",
       " ['Instagram', 1000, True, 2010],\n",
       " ['YouTube', 2000, False, 2005],\n",
       " ['LinkedIn', 663, False, 2003],\n",
       " ['WhatsApp', 16500, True, 2009]]"
      ]
     },
     "execution_count": 53,
     "metadata": {},
     "output_type": "execute_result"
    }
   ],
   "source": [
    "# Mostrando el DataFrame\n",
    "\n",
    "listaRS"
   ]
  },
  {
   "cell_type": "code",
   "execution_count": 54,
   "id": "812519da",
   "metadata": {},
   "outputs": [
    {
     "data": {
      "text/html": [
       "<div>\n",
       "<style scoped>\n",
       "    .dataframe tbody tr th:only-of-type {\n",
       "        vertical-align: middle;\n",
       "    }\n",
       "\n",
       "    .dataframe tbody tr th {\n",
       "        vertical-align: top;\n",
       "    }\n",
       "\n",
       "    .dataframe thead th {\n",
       "        text-align: right;\n",
       "    }\n",
       "</style>\n",
       "<table border=\"1\" class=\"dataframe\">\n",
       "  <thead>\n",
       "    <tr style=\"text-align: right;\">\n",
       "      <th></th>\n",
       "      <th>Nombre</th>\n",
       "      <th>Cantidad</th>\n",
       "      <th>es_Fbk</th>\n",
       "      <th>Año</th>\n",
       "    </tr>\n",
       "  </thead>\n",
       "  <tbody>\n",
       "    <tr>\n",
       "      <th>0</th>\n",
       "      <td>Facebook</td>\n",
       "      <td>2449</td>\n",
       "      <td>True</td>\n",
       "      <td>2006</td>\n",
       "    </tr>\n",
       "    <tr>\n",
       "      <th>1</th>\n",
       "      <td>Twitter</td>\n",
       "      <td>339</td>\n",
       "      <td>False</td>\n",
       "      <td>2006</td>\n",
       "    </tr>\n",
       "    <tr>\n",
       "      <th>2</th>\n",
       "      <td>Instagram</td>\n",
       "      <td>1000</td>\n",
       "      <td>True</td>\n",
       "      <td>2010</td>\n",
       "    </tr>\n",
       "    <tr>\n",
       "      <th>3</th>\n",
       "      <td>YouTube</td>\n",
       "      <td>2000</td>\n",
       "      <td>False</td>\n",
       "      <td>2005</td>\n",
       "    </tr>\n",
       "    <tr>\n",
       "      <th>4</th>\n",
       "      <td>LinkedIn</td>\n",
       "      <td>663</td>\n",
       "      <td>False</td>\n",
       "      <td>2003</td>\n",
       "    </tr>\n",
       "    <tr>\n",
       "      <th>5</th>\n",
       "      <td>WhatsApp</td>\n",
       "      <td>16500</td>\n",
       "      <td>True</td>\n",
       "      <td>2009</td>\n",
       "    </tr>\n",
       "  </tbody>\n",
       "</table>\n",
       "</div>"
      ],
      "text/plain": [
       "      Nombre  Cantidad  es_Fbk   Año\n",
       "0   Facebook      2449    True  2006\n",
       "1    Twitter       339   False  2006\n",
       "2  Instagram      1000    True  2010\n",
       "3    YouTube      2000   False  2005\n",
       "4   LinkedIn       663   False  2003\n",
       "5   WhatsApp     16500    True  2009"
      ]
     },
     "execution_count": 54,
     "metadata": {},
     "output_type": "execute_result"
    }
   ],
   "source": [
    "import pandas as pd\n",
    "\n",
    "pd.DataFrame(listaRS, columns = ['Nombre', 'Cantidad', 'es_Fbk', 'Año'])"
   ]
  }
 ],
 "metadata": {
  "kernelspec": {
   "display_name": "Python 3 (ipykernel)",
   "language": "python",
   "name": "python3"
  },
  "language_info": {
   "codemirror_mode": {
    "name": "ipython",
    "version": 3
   },
   "file_extension": ".py",
   "mimetype": "text/x-python",
   "name": "python",
   "nbconvert_exporter": "python",
   "pygments_lexer": "ipython3",
   "version": "3.9.13"
  },
  "vscode": {
   "interpreter": {
    "hash": "734acb1251a758a79d7264dcd47bd9e754c499b24a631d0d3c4b7be6488c7082"
   }
  }
 },
 "nbformat": 4,
 "nbformat_minor": 5
}
